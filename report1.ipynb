{
  "nbformat": 4,
  "nbformat_minor": 0,
  "metadata": {
    "colab": {
      "name": "report1.ipynb",
      "provenance": [],
      "collapsed_sections": [],
      "authorship_tag": "ABX9TyNlXc/bXNbhIe58FFutscwT",
      "include_colab_link": true
    },
    "kernelspec": {
      "name": "python3",
      "display_name": "Python 3"
    }
  },
  "cells": [
    {
      "cell_type": "markdown",
      "metadata": {
        "id": "view-in-github",
        "colab_type": "text"
      },
      "source": [
        "<a href=\"https://colab.research.google.com/github/Jung-yucheol/test/blob/master/report1.ipynb\" target=\"_parent\"><img src=\"https://colab.research.google.com/assets/colab-badge.svg\" alt=\"Open In Colab\"/></a>"
      ]
    },
    {
      "cell_type": "markdown",
      "metadata": {
        "id": "GzHBrg_nOwf8",
        "colab_type": "text"
      },
      "source": [
        "#**1주차 과제**"
      ]
    },
    {
      "cell_type": "markdown",
      "metadata": {
        "id": "L1l0PCpHRbst",
        "colab_type": "text"
      },
      "source": [
        "##**언어**\n",
        "\n",
        "###Papago 번역기(파파고)\n",
        "\n",
        "네이버가 2016년 8월 8일에 선보인 인공지능 기반 번역기이다. 한국어, 일본어, 중국어, 영어, 스페인어, 프랑스어, 베트남어, 태국어, 인도네이사어, 독일어, 러시아어, 푸르투갈어, 힌디어 13개의 언어를 번역할 수 있으며 텍스트나 음성 뿐 아닌 사진 속 문자까지 번역할 수 있다.\n",
        "\n",
        "딥러닝 기반의 인공신경망 번역 기술(NMT)이 도입되었으며 인공지능이 스스로 빅데이터를 학습하고 번역하는 기술이다. 이 기술은 인공지능이 전체 문맥을 파악한 뒤 단어의 순서, 의미, 맥락을 반영하여 통째로 번역한다.\n",
        "\n",
        "인공신경망을 도입한 결과 기존의 통계기반 번역과 비교했을 때 번역의 정확도가 크게 개선되었다.\n",
        "\n",
        "출처 : http://www.dt.co.kr/contents.html?article_no=2016121502109931102004"
      ]
    },
    {
      "cell_type": "markdown",
      "metadata": {
        "id": "R17LlfLNRb74",
        "colab_type": "text"
      },
      "source": [
        "##**음성**\n",
        "\n",
        "###SK NUGU(누구)\n",
        "\n",
        "2016년 8월 31일에 공개된 인공지능 개인비서이다. 국내 이동통신사 최초로 음성인식 기반으로 가정용 사물인터넷 기기를 제어하고 각종 생활 정보까지 알려준다.\n",
        "\n",
        "기기 스스로 학습할 수 있는 딥러닝을 접목한 것이 특징이며 이용자들이 서비스를 많이 사용할수록 데이터가 많이 쌓여 답변 정확도와 음성인식률도 개선된다.\n",
        "\n",
        "또한, 폴더폰을 주로 사용하는 어르신 세대는 정보 접근으로부터 소외되고 있다는 지적이 많았으나 2020년 4월 이후부터 LG 폴더폰에도 탑재되어 어르신 세대의 정보 접근성을 개선한다고 한다.\n",
        "\n",
        "누구(NUGU) 홈페이지(https://www.nugu.co.kr/)에는 개발자를 위한 사이트(https://www.nugu.co.kr/developers/)를 제공하고 있어 개발입문자도 쉽게 개발할 수 있다.\n",
        "\n",
        "\n",
        "출처 : https://www.news1.kr/articles/?2761479\n",
        "       http://www.ilovepc.co.kr/news/articleView.html?idxno=34369\n"
      ]
    },
    {
      "cell_type": "markdown",
      "metadata": {
        "id": "zAmk4w0yRb-l",
        "colab_type": "text"
      },
      "source": [
        "##**이미지**\n",
        "\n",
        "### Google Photos(구글 포토)\n",
        "\n",
        "2015년 5월 29일에 구글이 발표한 사진 관리 서비스다. 이미지 인식 기술을 적용하여 만들어졌으며 구글 계정으로 로그인하면 사진 저장 용량을 **무료**로 **무제한** 사용할 수 있다. 모든 사진과 동영상을 보관하고 모든 기기에서 확인할 수 있어 관리가 쉬운 것이 장점이며 특히, 사용자가 보유한 수천장의 사진에서 원하는 사진을 찾기가 쉽다.\n",
        "\n",
        "구글 포토는 사용자가 사진별로 정보를 입력하지 않아도 특정 인물별로 사진을 정리해주거나 특정 단어로 검색하면 이에 맞는 사진을 찾아낸다.\n",
        "\n",
        "또한, 딥러닝을 적용하여 고양이 사진과 비슷하지만 고양이 사진이 아닌것을 계속되는 이미지 학습을 통해서 걸러내거나 추가한다. 이를 위해 구글은 학습 알고리즘 구간에서 오류를 바로잡기 위한 더 많은 필터들이 추가되고 인식의 정확도를 올렸다.\n",
        "\n",
        "출처 : https://biz.chosun.com/site/data/html_dir/2017/03/26/2017032600545.html\n"
      ]
    },
    {
      "cell_type": "markdown",
      "metadata": {
        "id": "0UjP11WcRcBg",
        "colab_type": "text"
      },
      "source": [
        "##**자율주행**\n",
        "\n",
        "###SCC-ML(Smart Cruise Control-Machine Learning)\n",
        "\n",
        "SCC-ML은 인공지능 기술을 기반으로 자동차 스스로 운전자의 주행 습관을 분석하고 자율 주행하는 머신러닝 기반 스마트 크루즈 컨트롤이다. 기존 스마트 크루즈 컨트롤(Smart Cruise Control)에 머신러닝 알고리즘을 더한 이 기술은 첨단 운전자보조 시스템(Advanced Driver Assistance System, ADAS) 중 하나이다.\n",
        "\n",
        "SCC-ML은 전방 카메라, 레이더 등의 센서가 다양한 운전 상황에서 발생되는 정보를 지속적으로 수집해 ADAS의 두뇌격인 제어 컴퓨터로 보낸다. 제어 컴퓨터는 입력된 정보로부터 운전자의 주행 습관을 추출해 종합적인 주행 성향을 파악한다. 이 때, 인공지능 기술인 머신러닝이 적용된다.\n",
        "\n",
        "주행성향에 대한 정보는 센서를 통해 계속 업데이트되기 때문에 운전자의 최근 성향 또한 반영할 수 있다. 안전 운전을 크게 벗어난 주행 성향은 따르지 않도록 설정되어 있어서 신뢰성을 높였다.\n",
        "\n",
        "출처 : http://www.aitimes.kr/news/articleView.html?idxno=14500\n"
      ]
    }
  ]
}